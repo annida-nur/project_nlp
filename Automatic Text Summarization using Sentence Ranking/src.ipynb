{
  "cells": [
    {
      "cell_type": "markdown",
      "source": [
        "# **Prepare Packages/Modules/Functions**"
      ],
      "metadata": {
        "id": "aSWSGWnE0Bdp"
      }
    },
    {
      "cell_type": "code",
      "execution_count": null,
      "metadata": {
        "colab": {
          "base_uri": "https://localhost:8080/"
        },
        "id": "CI3niZmsuLZf",
        "outputId": "cb2a4a3f-a1da-46b1-a559-a433bfcc8bc2"
      },
      "outputs": [
        {
          "output_type": "stream",
          "name": "stdout",
          "text": [
            "[nltk_data] Downloading package punkt to /root/nltk_data...\n",
            "[nltk_data]   Unzipping tokenizers/punkt.zip.\n"
          ]
        }
      ],
      "source": [
        "import numpy as np\n",
        "import pandas as pd\n",
        "import nltk\n",
        "nltk.download('punkt')\n",
        "import re"
      ]
    },
    {
      "cell_type": "markdown",
      "metadata": {
        "id": "vOw_oVuB22M0"
      },
      "source": [
        "# **Text Preprocessing**"
      ]
    },
    {
      "cell_type": "markdown",
      "source": [
        "**Contoh teks yang akan dirangkum**"
      ],
      "metadata": {
        "id": "fv5F3GpV0F95"
      }
    },
    {
      "cell_type": "code",
      "execution_count": null,
      "metadata": {
        "id": "0cx5AzweBdep"
      },
      "outputs": [],
      "source": [
        "text_str = '''\n",
        "Pada zaman dahulu di sebuah perkampungan nelayan Pantai Air Manis di daerah Padang, Sumatera Barat hiduplah seorang janda bernama Mande Rubayah bersama seorang anak laki-lakinya yang bernama Malin Kundang. Mande Rubayah amat menyayangi dan memanjakan Malin Kundang. Malin adalah seorang anak yang rajin dan penurut.\n",
        "Mande Rubayah sudah tua, ia hanya mampu bekerja sebagai penjual kue untuk mencupi kebutuhan ia dan anak tunggalnya. Suatu hari, Malin jatuh-sakit. Sakit yang amat keras, nyawanya hampir melayang namun akhirnya ia dapat diseiamatkan-berkat usaha keras ibunya. Setelah sembuh dari sakitnya ia semakin disayang. Mereka adalah ibu dan anak yang saling menyayangi. Kini, Malin sudah dewasa ia meminta izin kepada ibunya untuk pergi merantau ke kota, karena saat itu sedang ada kapal besar merapat di Pantai Air Manis.\n",
        "“Jangan Malin, ibu takut terjadi sesuatu denganmu di tanah rantau sana. Menetaplah saja di sini, temani ibu,” ucap ibunya sedih setelah mendengar keinginan Malin yang ingin merantau.\n",
        "“Ibu tenanglah, tidak akan terjadi apa-apa denganku,” kata Malin sambil menggenggam tangan ibunya. “Ini kesempatan Bu, kerena belum tentu setahun sekali ada kapal besar merapat di pantai ini. Aku ingin mengubah nasib kita Bu, izinkanlah” pinta Malin memohon.\n",
        "“Baiklah, ibu izinkan. Cepatlah kembali, ibu akan selalu menunggumu Nak,” kata ibunya sambil menangis. Meski dengan berat hati akhirnya Mande Rubayah mengizinkan anaknya pergi. Kemudian Malin dibekali dengan nasi berbungkus daun pisang sebanyak tujuh bungkus, “Untuk bekalmu di perjalanan,” katanya sambil menyerahkannya pada Malin. Setelah itu berangkatiah Malin Kundang ke tanah rantau meninggalkan ibunya sendirian.\n",
        "Hari-hari terus berlalu, hari yang terasa lambat bagi Mande Rubayah. Setiap pagi dan sore Mande Rubayah memandang ke laut, “Sudah sampai manakah kamu berlayar Nak?” tanyanya dalam hati sambil terus memandang laut. la selalu mendo’akan anaknya agar selalu selamat dan cepat kembali.\n",
        "Beberapa waktu kemudian jika ada kapal yang datang merapat ia selalu menanyakan kabar tentang anaknya. “Apakah kalian melihat anakku, Malin? Apakah dia baik-baik saja? Kapan ia pulang?” tanyanya. Namun setiap ia bertanya pada awak kapal atau nahkoda tidak pernah mendapatkan jawaban. Malin tidak pernah menitipkan barang atau pesan apapun kepada ibunya.\n",
        "Bertahun-tahun Mande Rubayah terus bertanya namun tak pernah ada jawaban hingga tubuhnya semakin tua, kini ia jalannya mulai terbungkuk-bungkuk. Pada suatu hari Mande Rubayah mendapat kabar dari nakhoda dulu membawa Malin, nahkoda itu memberi kabar bahagia pada Mande Rubayah.\n",
        "“Mande, tahukah kau, anakmu kini telah menikah dengan gadis cantik, putri seorang bangsawan yang sangat kaya raya,” ucapnya saat itu.\n",
        "Mande Rubayah amat gembira mendengar hal itu, ia selalu berdoa agar anaknya selamat dan segera kembali menjenguknya, sinar keceriaan mulai mengampirinya kembali. Namun hingga berbulan-bulan semenjak ia menerima kabar Malin dari nahkoda itu, Malin tak kunjung kembali untuk menengoknya.\n",
        "“Malin cepatlah pulang kemari Nak, ibu sudah tua Malin, kapan kau pulang…,” rintihnya pilu setiap malam. Ia yakin anaknya pasti datang. Benar saja tak berapa lama kemudian di suatu hari yang cerah dari kejauhan tampak sebuah kapal yang megah nan indah berlayar menuju pantai. Orang kampung berkumpul, mereka mengira kapal itu milik seorang sultan atau seorang pangeran. Mereka menyambutnya dengan gembira.\n",
        "Ketika kapal itu mulai merapat, terlihat sepasang anak muda berdiri di anjungan. Pakaian mereka berkiiauan terkena sinar matahari. Wajah mereka cerah dihiasi senyum karena bahagia disambut dengan meriah. Mande Rubayah juga ikut berdesakan mendekati kapal. Jantungnya berdebar keras saat melihat lelaki muda yang berada di kapal itu, ia sangat yakin sekali bahwa lelaki muda itu adalah anaknya, Malin Kundang. Belum sempat para sesepuh kampung menyambut, Ibu Malin terlebih dahulu menghampiri Malin. la langsung memeluknya erat, ia takut kehilangan anaknya lagi.\n",
        "“Malin, anakku. Kau benar anakku kan?” katanya menahan isak tangis karena gembira, “Mengapa begitu lamanya kau tidak memberi kabar?”\n",
        "Malin terkejut karena dipeluk wanita tua renta yang berpakaian compang—camping itu. Ia tak percaya bahwa wanita itu adalah ibunya. Sebelum dia sempat berpikir berbicara, istrinya yang cantik itu meludah sambil berkata, “Wanita jelek inikah ibumu? Mengapa dahulu kau bohong padaku!” ucapnya sinis, “Bukankah dulu kau katakan bahwa ibumu adalah seorang bangsawan yang sederajat denganku?!”\n",
        "Mendengar kata-kata pedas istrinya, Malin Kundang langsung mendorong ibunya hingga terguling ke pasir, “Wanita gila! Aku bukan anakmu!” ucapnya kasar.\n",
        "Mande Rubayah tidak percaya akan perilaku anaknya, ia jatuh terduduk sambil berkata, “Malin, Malin, anakku. Aku ini ibumu, Nak! Mengapa kau jadi seperti ini Nak?!” Malin Kundang tidak memperdulikan perkataan ibunya. Dia tidak akan mengakui ibunya. la malu kepada istrinya. Melihat wanita itu beringsut hendak memeluk kakinya, Malin menendangnya sambil berkata, “Hai, wanita gila! lbuku tidak seperti engkau! Melarat dan kotor!” Wanita tua itu terkapar di pasir, menangis, dan sakit hati.\n",
        "Orang-orang yang meilhatnya ikut terpana dan kemudian pulang ke rumah masing-masing. Mande Rubayah pingsan dan terbaring sendiri. Ketika ia sadar, Pantai Air Manis sudah sepi. Dilihatnya kapal Malin semakin menjauh. Ia tak menyangka Malin yang dulu disayangi tega berbuat demikian. Hatinya perih dan sakit, lalu tangannya ditengadahkannya ke langit. Ia kemudian berdoa dengan hatinya yang pilu, “Ya, Tuhan, kalau memang dia bukan anakku, aku maafhan perbuatannya tadi. Tapi kalau memang dia benar anakku yang bernama Malin Kundang, aku mohon keadilanmu, Ya Tuhan!” ucapnya pilu sambil menangis. Tak lama kemudian cuaca di tengah laut yang tadinya cerah, mendadak berubah menjadi gelap. Hujan tiba-tiba turun dengan teramat lebatnya. Tiba-tiba datanglah badai besar, menghantam kapal Malin Kundang. Laiu sambaran petir yang menggelegar. Saat itu juga kapal hancur berkeping- keping. Kemudian terbawa ombak hingga ke pantai.\n",
        "Esoknya saat matahari pagi muncul di ufuk timur, badai telah reda. Di kaki bukit terlihat kepingan kapal yang telah menjadi batu. Itulah kapal Malin Kundang! Tampak sebongkah batu yang menyerupai tubuh manusia. Itulah tubuh Malin Kundang anak durhaka yang kena kutuk ibunya menjadi batu karena telah durhaka. Disela-sela batu itu berenang-renang ikan teri, ikan belanak, dan ikan tengiri. Konon, ikan itu berasal dari serpihan tubuh sang istri yang terus mencari Malin Kundang.\n",
        "Sampai sekarang jika ada ombak besar menghantam batu-batu yang mirip kapal dan manusia itu, terdengar bunyi seperti lolongan jeritan manusia, terkadang bunyinya seperti orang meratap menyesali diri, “Ampun, Bu…! Ampuun!” konon itulah suara si Malin Kundang, anak yang durhaka pada ibunya.\n",
        "'''"
      ]
    },
    {
      "cell_type": "markdown",
      "metadata": {
        "id": "SKAXVJmVugRR"
      },
      "source": [
        "**Split sentences**"
      ]
    },
    {
      "cell_type": "code",
      "execution_count": null,
      "metadata": {
        "colab": {
          "base_uri": "https://localhost:8080/"
        },
        "id": "bFgfBwi4PWW0",
        "outputId": "c1419314-dbac-47f6-9bef-69b27b92ebf3"
      },
      "outputs": [
        {
          "output_type": "execute_result",
          "data": {
            "text/plain": [
              "['Pada zaman dahulu di sebuah perkampungan nelayan Pantai Air Manis di daerah Padang, Sumatera Barat hiduplah seorang janda bernama Mande Rubayah bersama seorang anak laki-lakinya yang bernama Malin Kundang',\n",
              " 'Mande Rubayah amat menyayangi dan memanjakan Malin Kundang',\n",
              " 'Malin adalah seorang anak yang rajin dan penurut',\n",
              " 'Mande Rubayah sudah tua, ia hanya mampu bekerja sebagai penjual kue untuk mencupi kebutuhan ia dan anak tunggalnya',\n",
              " 'Suatu hari, Malin jatuh-sakit',\n",
              " 'Sakit yang amat keras, nyawanya hampir melayang namun akhirnya ia dapat diseiamatkan-berkat usaha keras ibunya',\n",
              " 'Setelah sembuh dari sakitnya ia semakin disayang',\n",
              " 'Mereka adalah ibu dan anak yang saling menyayangi',\n",
              " 'Kini, Malin sudah dewasa ia meminta izin kepada ibunya untuk pergi merantau ke kota, karena saat itu sedang ada kapal besar merapat di Pantai Air Manis',\n",
              " '“Jangan Malin, ibu takut terjadi sesuatu denganmu di tanah rantau sana',\n",
              " 'Menetaplah saja di sini, temani ibu,” ucap ibunya sedih setelah mendengar keinginan Malin yang ingin merantau',\n",
              " '“Ibu tenanglah, tidak akan terjadi apa-apa denganku,” kata Malin sambil menggenggam tangan ibunya',\n",
              " '“Ini kesempatan Bu, kerena belum tentu setahun sekali ada kapal besar merapat di pantai ini',\n",
              " 'Aku ingin mengubah nasib kita Bu, izinkanlah” pinta Malin memohon',\n",
              " '“Baiklah, ibu izinkan',\n",
              " 'Cepatlah kembali, ibu akan selalu menunggumu Nak,” kata ibunya sambil menangis',\n",
              " 'Meski dengan berat hati akhirnya Mande Rubayah mengizinkan anaknya pergi',\n",
              " 'Kemudian Malin dibekali dengan nasi berbungkus daun pisang sebanyak tujuh bungkus, “Untuk bekalmu di perjalanan,” katanya sambil menyerahkannya pada Malin',\n",
              " 'Setelah itu berangkatiah Malin Kundang ke tanah rantau meninggalkan ibunya sendirian',\n",
              " 'Hari-hari terus berlalu, hari yang terasa lambat bagi Mande Rubayah',\n",
              " 'Setiap pagi dan sore Mande Rubayah memandang ke laut, “Sudah sampai manakah kamu berlayar Nak?” tanyanya dalam hati sambil terus memandang laut',\n",
              " 'la selalu mendo’akan anaknya agar selalu selamat dan cepat kembali',\n",
              " 'Beberapa waktu kemudian jika ada kapal yang datang merapat ia selalu menanyakan kabar tentang anaknya',\n",
              " '“Apakah kalian melihat anakku, Malin? Apakah dia baik-baik saja? Kapan ia pulang?” tanyanya',\n",
              " 'Namun setiap ia bertanya pada awak kapal atau nahkoda tidak pernah mendapatkan jawaban',\n",
              " 'Malin tidak pernah menitipkan barang atau pesan apapun kepada ibunya',\n",
              " 'Bertahun-tahun Mande Rubayah terus bertanya namun tak pernah ada jawaban hingga tubuhnya semakin tua, kini ia jalannya mulai terbungkuk-bungkuk',\n",
              " 'Pada suatu hari Mande Rubayah mendapat kabar dari nakhoda dulu membawa Malin, nahkoda itu memberi kabar bahagia pada Mande Rubayah',\n",
              " '“Mande, tahukah kau, anakmu kini telah menikah dengan gadis cantik, putri seorang bangsawan yang sangat kaya raya,” ucapnya saat itu',\n",
              " 'Mande Rubayah amat gembira mendengar hal itu, ia selalu berdoa agar anaknya selamat dan segera kembali menjenguknya, sinar keceriaan mulai mengampirinya kembali',\n",
              " 'Namun hingga berbulan-bulan semenjak ia menerima kabar Malin dari nahkoda itu, Malin tak kunjung kembali untuk menengoknya',\n",
              " '“Malin cepatlah pulang kemari Nak, ibu sudah tua Malin, kapan kau pulang…,” rintihnya pilu setiap malam',\n",
              " 'Ia yakin anaknya pasti datang',\n",
              " 'Benar saja tak berapa lama kemudian di suatu hari yang cerah dari kejauhan tampak sebuah kapal yang megah nan indah berlayar menuju pantai',\n",
              " 'Orang kampung berkumpul, mereka mengira kapal itu milik seorang sultan atau seorang pangeran',\n",
              " 'Mereka menyambutnya dengan gembira',\n",
              " 'Ketika kapal itu mulai merapat, terlihat sepasang anak muda berdiri di anjungan',\n",
              " 'Pakaian mereka berkiiauan terkena sinar matahari',\n",
              " 'Wajah mereka cerah dihiasi senyum karena bahagia disambut dengan meriah',\n",
              " 'Mande Rubayah juga ikut berdesakan mendekati kapal',\n",
              " 'Jantungnya berdebar keras saat melihat lelaki muda yang berada di kapal itu, ia sangat yakin sekali bahwa lelaki muda itu adalah anaknya, Malin Kundang',\n",
              " 'Belum sempat para sesepuh kampung menyambut, Ibu Malin terlebih dahulu menghampiri Malin',\n",
              " 'la langsung memeluknya erat, ia takut kehilangan anaknya lagi',\n",
              " '“Malin, anakku',\n",
              " 'Kau benar anakku kan?” katanya menahan isak tangis karena gembira, “Mengapa begitu lamanya kau tidak memberi kabar?”Malin terkejut karena dipeluk wanita tua renta yang berpakaian compang—camping itu',\n",
              " 'Ia tak percaya bahwa wanita itu adalah ibunya',\n",
              " 'Sebelum dia sempat berpikir berbicara, istrinya yang cantik itu meludah sambil berkata, “Wanita jelek inikah ibumu? Mengapa dahulu kau bohong padaku!” ucapnya sinis, “Bukankah dulu kau katakan bahwa ibumu adalah seorang bangsawan yang sederajat denganku?!”Mendengar kata-kata pedas istrinya, Malin Kundang langsung mendorong ibunya hingga terguling ke pasir, “Wanita gila! Aku bukan anakmu!” ucapnya kasar',\n",
              " 'Mande Rubayah tidak percaya akan perilaku anaknya, ia jatuh terduduk sambil berkata, “Malin, Malin, anakku',\n",
              " 'Aku ini ibumu, Nak! Mengapa kau jadi seperti ini Nak?!” Malin Kundang tidak memperdulikan perkataan ibunya',\n",
              " 'Dia tidak akan mengakui ibunya',\n",
              " 'la malu kepada istrinya',\n",
              " 'Melihat wanita itu beringsut hendak memeluk kakinya, Malin menendangnya sambil berkata, “Hai, wanita gila! lbuku tidak seperti engkau! Melarat dan kotor!” Wanita tua itu terkapar di pasir, menangis, dan sakit hati',\n",
              " 'Orang-orang yang meilhatnya ikut terpana dan kemudian pulang ke rumah masing-masing',\n",
              " 'Mande Rubayah pingsan dan terbaring sendiri',\n",
              " 'Ketika ia sadar, Pantai Air Manis sudah sepi',\n",
              " 'Dilihatnya kapal Malin semakin menjauh',\n",
              " 'Ia tak menyangka Malin yang dulu disayangi tega berbuat demikian',\n",
              " 'Hatinya perih dan sakit, lalu tangannya ditengadahkannya ke langit',\n",
              " 'Ia kemudian berdoa dengan hatinya yang pilu, “Ya, Tuhan, kalau memang dia bukan anakku, aku maafhan perbuatannya tadi',\n",
              " 'Tapi kalau memang dia benar anakku yang bernama Malin Kundang, aku mohon keadilanmu, Ya Tuhan!” ucapnya pilu sambil menangis',\n",
              " 'Tak lama kemudian cuaca di tengah laut yang tadinya cerah, mendadak berubah menjadi gelap',\n",
              " 'Hujan tiba-tiba turun dengan teramat lebatnya',\n",
              " 'Tiba-tiba datanglah badai besar, menghantam kapal Malin Kundang',\n",
              " 'Laiu sambaran petir yang menggelegar',\n",
              " 'Saat itu juga kapal hancur berkeping- keping',\n",
              " 'Kemudian terbawa ombak hingga ke pantai',\n",
              " 'Esoknya saat matahari pagi muncul di ufuk timur, badai telah reda',\n",
              " 'Di kaki bukit terlihat kepingan kapal yang telah menjadi batu',\n",
              " 'Itulah kapal Malin Kundang! Tampak sebongkah batu yang menyerupai tubuh manusia',\n",
              " 'Itulah tubuh Malin Kundang anak durhaka yang kena kutuk ibunya menjadi batu karena telah durhaka',\n",
              " 'Disela-sela batu itu berenang-renang ikan teri, ikan belanak, dan ikan tengiri',\n",
              " 'Konon, ikan itu berasal dari serpihan tubuh sang istri yang terus mencari Malin Kundang',\n",
              " 'Sampai sekarang jika ada ombak besar menghantam batu-batu yang mirip kapal dan manusia itu, terdengar bunyi seperti lolongan jeritan manusia, terkadang bunyinya seperti orang meratap menyesali diri, “Ampun, Bu…! Ampuun!” konon itulah suara si Malin Kundang, anak yang durhaka pada ibunya',\n",
              " '']"
            ]
          },
          "metadata": {},
          "execution_count": 3
        }
      ],
      "source": [
        "text_str = text_str.replace('\\n', '')\n",
        "sentences = re.split('\\. |\\.',text_str)\n",
        "sentences"
      ]
    },
    {
      "cell_type": "code",
      "execution_count": null,
      "metadata": {
        "id": "ni2gG9Ftt_BP",
        "outputId": "b5fff535-0512-41a2-f04f-ff548f988c6c",
        "colab": {
          "base_uri": "https://localhost:8080/"
        }
      },
      "outputs": [
        {
          "output_type": "stream",
          "name": "stderr",
          "text": [
            "/usr/local/lib/python3.7/dist-packages/ipykernel_launcher.py:2: FutureWarning: The default value of regex will change from True to False in a future version.\n",
            "  \n"
          ]
        }
      ],
      "source": [
        "# hapus tanda baca, angka, dan karakter khusus\n",
        "clean_sentences = pd.Series(sentences).str.replace(\"[^a-zA-Z]\", \" \")\n",
        "\n",
        "# membuat huruf kecil\n",
        "clean_sentences = [s.lower() for s in clean_sentences]"
      ]
    },
    {
      "cell_type": "code",
      "execution_count": null,
      "metadata": {
        "colab": {
          "base_uri": "https://localhost:8080/"
        },
        "id": "j-XEICsnuO5F",
        "outputId": "54b84050-cd02-4dc2-b604-afeb31899d7b"
      },
      "outputs": [
        {
          "output_type": "execute_result",
          "data": {
            "text/plain": [
              "['pada zaman dahulu di sebuah perkampungan nelayan pantai air manis di daerah padang  sumatera barat hiduplah seorang janda bernama mande rubayah bersama seorang anak laki lakinya yang bernama malin kundang',\n",
              " 'mande rubayah amat menyayangi dan memanjakan malin kundang',\n",
              " 'malin adalah seorang anak yang rajin dan penurut',\n",
              " 'mande rubayah sudah tua  ia hanya mampu bekerja sebagai penjual kue untuk mencupi kebutuhan ia dan anak tunggalnya',\n",
              " 'suatu hari  malin jatuh sakit',\n",
              " 'sakit yang amat keras  nyawanya hampir melayang namun akhirnya ia dapat diseiamatkan berkat usaha keras ibunya',\n",
              " 'setelah sembuh dari sakitnya ia semakin disayang',\n",
              " 'mereka adalah ibu dan anak yang saling menyayangi',\n",
              " 'kini  malin sudah dewasa ia meminta izin kepada ibunya untuk pergi merantau ke kota  karena saat itu sedang ada kapal besar merapat di pantai air manis',\n",
              " ' jangan malin  ibu takut terjadi sesuatu denganmu di tanah rantau sana',\n",
              " 'menetaplah saja di sini  temani ibu   ucap ibunya sedih setelah mendengar keinginan malin yang ingin merantau',\n",
              " ' ibu tenanglah  tidak akan terjadi apa apa denganku   kata malin sambil menggenggam tangan ibunya',\n",
              " ' ini kesempatan bu  kerena belum tentu setahun sekali ada kapal besar merapat di pantai ini',\n",
              " 'aku ingin mengubah nasib kita bu  izinkanlah  pinta malin memohon',\n",
              " ' baiklah  ibu izinkan',\n",
              " 'cepatlah kembali  ibu akan selalu menunggumu nak   kata ibunya sambil menangis',\n",
              " 'meski dengan berat hati akhirnya mande rubayah mengizinkan anaknya pergi',\n",
              " 'kemudian malin dibekali dengan nasi berbungkus daun pisang sebanyak tujuh bungkus   untuk bekalmu di perjalanan   katanya sambil menyerahkannya pada malin',\n",
              " 'setelah itu berangkatiah malin kundang ke tanah rantau meninggalkan ibunya sendirian',\n",
              " 'hari hari terus berlalu  hari yang terasa lambat bagi mande rubayah',\n",
              " 'setiap pagi dan sore mande rubayah memandang ke laut   sudah sampai manakah kamu berlayar nak   tanyanya dalam hati sambil terus memandang laut',\n",
              " 'la selalu mendo akan anaknya agar selalu selamat dan cepat kembali',\n",
              " 'beberapa waktu kemudian jika ada kapal yang datang merapat ia selalu menanyakan kabar tentang anaknya',\n",
              " ' apakah kalian melihat anakku  malin  apakah dia baik baik saja  kapan ia pulang   tanyanya',\n",
              " 'namun setiap ia bertanya pada awak kapal atau nahkoda tidak pernah mendapatkan jawaban',\n",
              " 'malin tidak pernah menitipkan barang atau pesan apapun kepada ibunya',\n",
              " 'bertahun tahun mande rubayah terus bertanya namun tak pernah ada jawaban hingga tubuhnya semakin tua  kini ia jalannya mulai terbungkuk bungkuk',\n",
              " 'pada suatu hari mande rubayah mendapat kabar dari nakhoda dulu membawa malin  nahkoda itu memberi kabar bahagia pada mande rubayah',\n",
              " ' mande  tahukah kau  anakmu kini telah menikah dengan gadis cantik  putri seorang bangsawan yang sangat kaya raya   ucapnya saat itu',\n",
              " 'mande rubayah amat gembira mendengar hal itu  ia selalu berdoa agar anaknya selamat dan segera kembali menjenguknya  sinar keceriaan mulai mengampirinya kembali',\n",
              " 'namun hingga berbulan bulan semenjak ia menerima kabar malin dari nahkoda itu  malin tak kunjung kembali untuk menengoknya',\n",
              " ' malin cepatlah pulang kemari nak  ibu sudah tua malin  kapan kau pulang    rintihnya pilu setiap malam',\n",
              " 'ia yakin anaknya pasti datang',\n",
              " 'benar saja tak berapa lama kemudian di suatu hari yang cerah dari kejauhan tampak sebuah kapal yang megah nan indah berlayar menuju pantai',\n",
              " 'orang kampung berkumpul  mereka mengira kapal itu milik seorang sultan atau seorang pangeran',\n",
              " 'mereka menyambutnya dengan gembira',\n",
              " 'ketika kapal itu mulai merapat  terlihat sepasang anak muda berdiri di anjungan',\n",
              " 'pakaian mereka berkiiauan terkena sinar matahari',\n",
              " 'wajah mereka cerah dihiasi senyum karena bahagia disambut dengan meriah',\n",
              " 'mande rubayah juga ikut berdesakan mendekati kapal',\n",
              " 'jantungnya berdebar keras saat melihat lelaki muda yang berada di kapal itu  ia sangat yakin sekali bahwa lelaki muda itu adalah anaknya  malin kundang',\n",
              " 'belum sempat para sesepuh kampung menyambut  ibu malin terlebih dahulu menghampiri malin',\n",
              " 'la langsung memeluknya erat  ia takut kehilangan anaknya lagi',\n",
              " ' malin  anakku',\n",
              " 'kau benar anakku kan   katanya menahan isak tangis karena gembira   mengapa begitu lamanya kau tidak memberi kabar  malin terkejut karena dipeluk wanita tua renta yang berpakaian compang camping itu',\n",
              " 'ia tak percaya bahwa wanita itu adalah ibunya',\n",
              " 'sebelum dia sempat berpikir berbicara  istrinya yang cantik itu meludah sambil berkata   wanita jelek inikah ibumu  mengapa dahulu kau bohong padaku   ucapnya sinis   bukankah dulu kau katakan bahwa ibumu adalah seorang bangsawan yang sederajat denganku   mendengar kata kata pedas istrinya  malin kundang langsung mendorong ibunya hingga terguling ke pasir   wanita gila  aku bukan anakmu   ucapnya kasar',\n",
              " 'mande rubayah tidak percaya akan perilaku anaknya  ia jatuh terduduk sambil berkata   malin  malin  anakku',\n",
              " 'aku ini ibumu  nak  mengapa kau jadi seperti ini nak    malin kundang tidak memperdulikan perkataan ibunya',\n",
              " 'dia tidak akan mengakui ibunya',\n",
              " 'la malu kepada istrinya',\n",
              " 'melihat wanita itu beringsut hendak memeluk kakinya  malin menendangnya sambil berkata   hai  wanita gila  lbuku tidak seperti engkau  melarat dan kotor   wanita tua itu terkapar di pasir  menangis  dan sakit hati',\n",
              " 'orang orang yang meilhatnya ikut terpana dan kemudian pulang ke rumah masing masing',\n",
              " 'mande rubayah pingsan dan terbaring sendiri',\n",
              " 'ketika ia sadar  pantai air manis sudah sepi',\n",
              " 'dilihatnya kapal malin semakin menjauh',\n",
              " 'ia tak menyangka malin yang dulu disayangi tega berbuat demikian',\n",
              " 'hatinya perih dan sakit  lalu tangannya ditengadahkannya ke langit',\n",
              " 'ia kemudian berdoa dengan hatinya yang pilu   ya  tuhan  kalau memang dia bukan anakku  aku maafhan perbuatannya tadi',\n",
              " 'tapi kalau memang dia benar anakku yang bernama malin kundang  aku mohon keadilanmu  ya tuhan   ucapnya pilu sambil menangis',\n",
              " 'tak lama kemudian cuaca di tengah laut yang tadinya cerah  mendadak berubah menjadi gelap',\n",
              " 'hujan tiba tiba turun dengan teramat lebatnya',\n",
              " 'tiba tiba datanglah badai besar  menghantam kapal malin kundang',\n",
              " 'laiu sambaran petir yang menggelegar',\n",
              " 'saat itu juga kapal hancur berkeping  keping',\n",
              " 'kemudian terbawa ombak hingga ke pantai',\n",
              " 'esoknya saat matahari pagi muncul di ufuk timur  badai telah reda',\n",
              " 'di kaki bukit terlihat kepingan kapal yang telah menjadi batu',\n",
              " 'itulah kapal malin kundang  tampak sebongkah batu yang menyerupai tubuh manusia',\n",
              " 'itulah tubuh malin kundang anak durhaka yang kena kutuk ibunya menjadi batu karena telah durhaka',\n",
              " 'disela sela batu itu berenang renang ikan teri  ikan belanak  dan ikan tengiri',\n",
              " 'konon  ikan itu berasal dari serpihan tubuh sang istri yang terus mencari malin kundang',\n",
              " 'sampai sekarang jika ada ombak besar menghantam batu batu yang mirip kapal dan manusia itu  terdengar bunyi seperti lolongan jeritan manusia  terkadang bunyinya seperti orang meratap menyesali diri   ampun  bu   ampuun   konon itulah suara si malin kundang  anak yang durhaka pada ibunya',\n",
              " '']"
            ]
          },
          "metadata": {},
          "execution_count": 5
        }
      ],
      "source": [
        "clean_sentences"
      ]
    },
    {
      "cell_type": "code",
      "execution_count": null,
      "metadata": {
        "colab": {
          "base_uri": "https://localhost:8080/"
        },
        "id": "KZxONCAt3aEe",
        "outputId": "5d327b16-1fc7-4085-f04c-9e1e3786eaa1"
      },
      "outputs": [
        {
          "output_type": "execute_result",
          "data": {
            "text/plain": [
              "74"
            ]
          },
          "metadata": {},
          "execution_count": 6
        }
      ],
      "source": [
        "len(clean_sentences)"
      ]
    },
    {
      "cell_type": "markdown",
      "metadata": {
        "id": "r6uyMMk0vkQN"
      },
      "source": [
        "# **Sentences Ranking**"
      ]
    },
    {
      "cell_type": "code",
      "execution_count": null,
      "metadata": {
        "id": "NmI14AQ1vm9N",
        "colab": {
          "base_uri": "https://localhost:8080/"
        },
        "outputId": "b31a7c50-3fea-4b05-a4bd-e16ed0f6dd09"
      },
      "outputs": [
        {
          "output_type": "stream",
          "name": "stdout",
          "text": [
            "--2022-05-26 19:21:28--  http://nlp.stanford.edu/data/glove.6B.zip\n",
            "Resolving nlp.stanford.edu (nlp.stanford.edu)... 171.64.67.140\n",
            "Connecting to nlp.stanford.edu (nlp.stanford.edu)|171.64.67.140|:80... connected.\n",
            "HTTP request sent, awaiting response... 302 Found\n",
            "Location: https://nlp.stanford.edu/data/glove.6B.zip [following]\n",
            "--2022-05-26 19:21:28--  https://nlp.stanford.edu/data/glove.6B.zip\n",
            "Connecting to nlp.stanford.edu (nlp.stanford.edu)|171.64.67.140|:443... connected.\n",
            "HTTP request sent, awaiting response... 301 Moved Permanently\n",
            "Location: http://downloads.cs.stanford.edu/nlp/data/glove.6B.zip [following]\n",
            "--2022-05-26 19:21:29--  http://downloads.cs.stanford.edu/nlp/data/glove.6B.zip\n",
            "Resolving downloads.cs.stanford.edu (downloads.cs.stanford.edu)... 171.64.64.22\n",
            "Connecting to downloads.cs.stanford.edu (downloads.cs.stanford.edu)|171.64.64.22|:80... connected.\n",
            "HTTP request sent, awaiting response... 200 OK\n",
            "Length: 862182613 (822M) [application/zip]\n",
            "Saving to: ‘glove.6B.zip.1’\n",
            "\n",
            "glove.6B.zip.1      100%[===================>] 822.24M  5.14MB/s    in 2m 41s  \n",
            "\n",
            "2022-05-26 19:24:11 (5.09 MB/s) - ‘glove.6B.zip.1’ saved [862182613/862182613]\n",
            "\n",
            "Archive:  glove.6B.zip\n",
            "replace glove.6B.50d.txt? [y]es, [n]o, [A]ll, [N]one, [r]ename: y\n",
            "  inflating: glove.6B.50d.txt        \n",
            "replace glove.6B.100d.txt? [y]es, [n]o, [A]ll, [N]one, [r]ename: y\n",
            "  inflating: glove.6B.100d.txt       \n",
            "replace glove.6B.200d.txt? [y]es, [n]o, [A]ll, [N]one, [r]ename: y\n",
            "  inflating: glove.6B.200d.txt       \n",
            "replace glove.6B.300d.txt? [y]es, [n]o, [A]ll, [N]one, [r]ename: y\n",
            "  inflating: glove.6B.300d.txt       \n"
          ]
        }
      ],
      "source": [
        "# vektor Wikipedia 2014 + Gigaword 5 GloVe yang telah dilatih sebelumnya\n",
        "# dari nlpstanford\n",
        "\n",
        "#import glove\n",
        "!wget http://nlp.stanford.edu/data/glove.6B.zip\n",
        "!unzip glove*.zip"
      ]
    },
    {
      "cell_type": "code",
      "execution_count": null,
      "metadata": {
        "id": "kXvyvX98wVxo"
      },
      "outputs": [],
      "source": [
        "# Ekstrak kata embeddings atau vektor kata\n",
        "word_embeddings = {}\n",
        "f = open('glove.6B.100d.txt', encoding='utf-8')\n",
        "for line in f:\n",
        "    values = line.split()\n",
        "    word = values[0]\n",
        "    coefs = np.asarray(values[1:], dtype='float32')\n",
        "    word_embeddings[word] = coefs\n",
        "f.close()"
      ]
    },
    {
      "cell_type": "code",
      "execution_count": null,
      "metadata": {
        "colab": {
          "base_uri": "https://localhost:8080/"
        },
        "id": "jIQSjfhtwWT-",
        "outputId": "a45ef17c-af01-4e58-ae7b-2527685a70ac"
      },
      "outputs": [
        {
          "output_type": "execute_result",
          "data": {
            "text/plain": [
              "400000"
            ]
          },
          "metadata": {},
          "execution_count": 11
        }
      ],
      "source": [
        "len(word_embeddings)"
      ]
    },
    {
      "cell_type": "markdown",
      "metadata": {
        "id": "atas9kILwylC"
      },
      "source": [
        "**Filtering (Stopword-Removal)**"
      ]
    },
    {
      "cell_type": "code",
      "execution_count": null,
      "metadata": {
        "colab": {
          "base_uri": "https://localhost:8080/"
        },
        "id": "AEENz7BwwhQW",
        "outputId": "45775f0a-c000-4795-ff9e-ab8926af19db"
      },
      "outputs": [
        {
          "output_type": "stream",
          "name": "stdout",
          "text": [
            "[nltk_data] Downloading package stopwords to /root/nltk_data...\n",
            "[nltk_data]   Unzipping corpora/stopwords.zip.\n"
          ]
        }
      ],
      "source": [
        "\"\"\"\n",
        "Singkirkan stopwords (kata-kata yang umum digunakan dalam suatu \n",
        "bahasa) yang ada dalam kalimat.\n",
        "\"\"\"\n",
        "\n",
        "nltk.download('stopwords')\n",
        "from nltk.corpus import stopwords\n",
        "stop_words = stopwords.words('indonesian')"
      ]
    },
    {
      "cell_type": "code",
      "execution_count": null,
      "metadata": {
        "id": "NkmP-zLmwm_d"
      },
      "outputs": [],
      "source": [
        "# Tentukan fungsi untuk menghapus stopword ini dari dataset\n",
        "\n",
        "# Fungsi untuk menghapus stopword\n",
        "def remove_stopwords(sen):\n",
        "    sen_new = \" \".join([i for i in sen if i not in stop_words])\n",
        "    return sen_new"
      ]
    },
    {
      "cell_type": "code",
      "execution_count": null,
      "metadata": {
        "id": "nELu9IGewwwG"
      },
      "outputs": [],
      "source": [
        "# hapus stopwords dari kalimat\n",
        "clean_sentences_SR = [remove_stopwords(r.split()) for r in clean_sentences]"
      ]
    },
    {
      "cell_type": "code",
      "execution_count": null,
      "metadata": {
        "colab": {
          "base_uri": "https://localhost:8080/"
        },
        "id": "TxJoavucxDQL",
        "outputId": "01453804-54a1-4c97-e032-8c598881ccff"
      },
      "outputs": [
        {
          "output_type": "execute_result",
          "data": {
            "text/plain": [
              "['zaman perkampungan nelayan pantai air manis daerah padang sumatera barat hiduplah janda bernama mande rubayah anak laki lakinya bernama malin kundang',\n",
              " 'mande rubayah menyayangi memanjakan malin kundang',\n",
              " 'malin anak rajin penurut',\n",
              " 'mande rubayah tua penjual kue mencupi kebutuhan anak tunggalnya',\n",
              " 'malin jatuh sakit',\n",
              " 'sakit keras nyawanya melayang diseiamatkan berkat usaha keras ibunya',\n",
              " 'sembuh sakitnya disayang',\n",
              " 'anak menyayangi',\n",
              " 'malin dewasa izin ibunya pergi merantau kota kapal merapat pantai air manis',\n",
              " 'malin takut denganmu tanah rantau',\n",
              " 'menetaplah temani ibunya sedih mendengar malin merantau',\n",
              " 'tenanglah denganku malin menggenggam tangan ibunya',\n",
              " 'kesempatan bu kerena setahun kapal merapat pantai',\n",
              " 'mengubah nasib bu izinkanlah pinta malin memohon',\n",
              " 'baiklah izinkan',\n",
              " 'cepatlah menunggumu nak ibunya menangis',\n",
              " 'berat hati mande rubayah mengizinkan anaknya pergi',\n",
              " 'malin dibekali nasi berbungkus daun pisang tujuh bungkus bekalmu perjalanan menyerahkannya malin',\n",
              " 'berangkatiah malin kundang tanah rantau meninggalkan ibunya',\n",
              " 'lambat mande rubayah',\n",
              " 'pagi sore mande rubayah memandang laut manakah berlayar nak hati memandang laut',\n",
              " 'la mendo anaknya selamat cepat',\n",
              " 'kapal merapat kabar anaknya',\n",
              " 'anakku malin pulang',\n",
              " 'awak kapal nahkoda',\n",
              " 'malin menitipkan barang pesan apapun ibunya',\n",
              " 'bertahun mande rubayah tubuhnya tua jalannya terbungkuk bungkuk',\n",
              " 'mande rubayah kabar nakhoda membawa malin nahkoda kabar bahagia mande rubayah',\n",
              " 'mande tahukah kau anakmu menikah gadis cantik putri bangsawan kaya raya',\n",
              " 'mande rubayah gembira mendengar berdoa anaknya selamat menjenguknya sinar keceriaan mengampirinya',\n",
              " 'berbulan semenjak menerima kabar malin nahkoda malin kunjung menengoknya',\n",
              " 'malin cepatlah pulang kemari nak tua malin kau pulang rintihnya pilu malam',\n",
              " 'anaknya',\n",
              " 'cerah kejauhan kapal megah nan indah berlayar pantai',\n",
              " 'orang kampung berkumpul kapal milik sultan pangeran',\n",
              " 'menyambutnya gembira',\n",
              " 'kapal merapat sepasang anak muda berdiri anjungan',\n",
              " 'pakaian berkiiauan terkena sinar matahari',\n",
              " 'wajah cerah dihiasi senyum bahagia disambut meriah',\n",
              " 'mande rubayah berdesakan mendekati kapal',\n",
              " 'jantungnya berdebar keras lelaki muda kapal lelaki muda anaknya malin kundang',\n",
              " 'sesepuh kampung menyambut malin menghampiri malin',\n",
              " 'la langsung memeluknya erat takut kehilangan anaknya',\n",
              " 'malin anakku',\n",
              " 'kau anakku menahan isak tangis gembira kau kabar malin terkejut dipeluk wanita tua renta berpakaian compang camping',\n",
              " 'percaya wanita ibunya',\n",
              " 'berpikir berbicara istrinya cantik meludah wanita jelek ibumu kau bohong padaku sinis kau ibumu bangsawan sederajat denganku mendengar pedas istrinya malin kundang langsung mendorong ibunya terguling pasir wanita gila anakmu kasar',\n",
              " 'mande rubayah percaya perilaku anaknya jatuh terduduk malin malin anakku',\n",
              " 'ibumu nak kau nak malin kundang memperdulikan perkataan ibunya',\n",
              " 'mengakui ibunya',\n",
              " 'la malu istrinya',\n",
              " 'wanita beringsut memeluk kakinya malin menendangnya hai wanita gila lbuku engkau melarat kotor wanita tua terkapar pasir menangis sakit hati',\n",
              " 'orang orang meilhatnya terpana pulang rumah',\n",
              " 'mande rubayah pingsan terbaring',\n",
              " 'sadar pantai air manis sepi',\n",
              " 'dilihatnya kapal malin menjauh',\n",
              " 'menyangka malin disayangi tega berbuat',\n",
              " 'hatinya perih sakit tangannya ditengadahkannya langit',\n",
              " 'berdoa hatinya pilu ya tuhan anakku maafhan perbuatannya',\n",
              " 'anakku bernama malin kundang mohon keadilanmu ya tuhan pilu menangis',\n",
              " 'cuaca laut cerah mendadak berubah gelap',\n",
              " 'hujan turun teramat lebatnya',\n",
              " 'datanglah badai menghantam kapal malin kundang',\n",
              " 'laiu sambaran petir menggelegar',\n",
              " 'kapal hancur berkeping keping',\n",
              " 'terbawa ombak pantai',\n",
              " 'esoknya matahari pagi muncul ufuk timur badai reda',\n",
              " 'kaki bukit kepingan kapal batu',\n",
              " 'kapal malin kundang sebongkah batu menyerupai tubuh manusia',\n",
              " 'tubuh malin kundang anak durhaka kena kutuk ibunya batu durhaka',\n",
              " 'disela batu berenang renang ikan teri ikan belanak ikan tengiri',\n",
              " 'konon ikan berasal serpihan tubuh sang istri mencari malin kundang',\n",
              " 'ombak menghantam batu batu kapal manusia terdengar bunyi lolongan jeritan manusia terkadang bunyinya orang meratap menyesali ampun bu ampuun konon suara si malin kundang anak durhaka ibunya',\n",
              " '']"
            ]
          },
          "metadata": {},
          "execution_count": 15
        }
      ],
      "source": [
        "clean_sentences_SR"
      ]
    },
    {
      "cell_type": "code",
      "execution_count": null,
      "metadata": {
        "id": "JrmxvDSlxG7o"
      },
      "outputs": [],
      "source": [
        "# Ekstrak vektor kata\n",
        "\"\"\"\n",
        "Gunakan clean_sentences untuk membuat \n",
        "vektor kalimat (vector senteces) dalam data\n",
        "dengan bantuan vektor kata GloVe\n",
        "\"\"\"\n",
        "\n",
        "word_embeddings = {}\n",
        "f = open('glove.6B.100d.txt', encoding='utf-8')\n",
        "for line in f:\n",
        "    values = line.split()\n",
        "    word = values[0]\n",
        "    coefs = np.asarray(values[1:], dtype='float32')\n",
        "    word_embeddings[word] = coefs\n",
        "f.close()"
      ]
    },
    {
      "cell_type": "code",
      "execution_count": null,
      "metadata": {
        "id": "tA3gDhC7xJk1"
      },
      "outputs": [],
      "source": [
        "'''\n",
        "Sekarang membuat vektor untuk kalimat.\n",
        "Yang pertama ambil vektor (masing2 berukuran 100 elemen)\n",
        "untuk kata2 penyusun dalam sebuah kalimat dan kemudian \n",
        "mengambil mean/rata2 dari vektor tsb untuk sampai \n",
        "pada vektor gabungan untuk kalimat tersebut\n",
        "'''\n",
        "\n",
        "sentence_vectors = []\n",
        "for i in clean_sentences_SR:\n",
        "  if len(i) != 0:\n",
        "    v = sum([word_embeddings.get(w, np.zeros((100,))) for w in i.split()])/(len(i.split())+0.001)\n",
        "  else:\n",
        "    v = np.zeros((100,))\n",
        "  sentence_vectors.append(v)"
      ]
    },
    {
      "cell_type": "code",
      "execution_count": null,
      "metadata": {
        "id": "iQbfaBXDxMLG"
      },
      "outputs": [],
      "source": [
        "# similarity matrix\n",
        "sim_mat = np.zeros([len(sentences), len(sentences)])"
      ]
    },
    {
      "cell_type": "code",
      "execution_count": null,
      "metadata": {
        "colab": {
          "base_uri": "https://localhost:8080/"
        },
        "id": "_OXh4lQtr4b8",
        "outputId": "28997f58-f437-4caa-c699-3e1d04b9550e"
      },
      "outputs": [
        {
          "output_type": "execute_result",
          "data": {
            "text/plain": [
              "array([[0., 0., 0., ..., 0., 0., 0.],\n",
              "       [0., 0., 0., ..., 0., 0., 0.],\n",
              "       [0., 0., 0., ..., 0., 0., 0.],\n",
              "       ...,\n",
              "       [0., 0., 0., ..., 0., 0., 0.],\n",
              "       [0., 0., 0., ..., 0., 0., 0.],\n",
              "       [0., 0., 0., ..., 0., 0., 0.]])"
            ]
          },
          "metadata": {},
          "execution_count": 19
        }
      ],
      "source": [
        "sim_mat"
      ]
    },
    {
      "cell_type": "markdown",
      "source": [
        "**Membuat Score**"
      ],
      "metadata": {
        "id": "xYuD-1AG1pKa"
      }
    },
    {
      "cell_type": "code",
      "execution_count": null,
      "metadata": {
        "id": "dQVGT6oWxOKW"
      },
      "outputs": [],
      "source": [
        "from sklearn.metrics.pairwise import cosine_similarity\n",
        "\n",
        "for i in range(len(sentences)):\n",
        "  for j in range(len(sentences)):\n",
        "    if i != j:\n",
        "      sim_mat[i][j] = cosine_similarity(sentence_vectors[i].reshape(1,100), sentence_vectors[j].reshape(1,100))[0,0]"
      ]
    },
    {
      "cell_type": "code",
      "execution_count": null,
      "metadata": {
        "id": "JDIlii1mxRXy"
      },
      "outputs": [],
      "source": [
        "import networkx as nx\n",
        "\n",
        "nx_graph = nx.from_numpy_array(sim_mat)\n",
        "scores = nx.pagerank(nx_graph)"
      ]
    },
    {
      "cell_type": "code",
      "execution_count": null,
      "metadata": {
        "colab": {
          "base_uri": "https://localhost:8080/"
        },
        "id": "dij7BQvy80Rj",
        "outputId": "2421908a-7d17-4c51-805e-86f3ce9598ff"
      },
      "outputs": [
        {
          "output_type": "execute_result",
          "data": {
            "text/plain": [
              "{0: 0.01881318811359308,\n",
              " 1: 0.018352573229447944,\n",
              " 2: 0.017576937660476032,\n",
              " 3: 0.016646449790184082,\n",
              " 4: 0.01839882095000153,\n",
              " 5: 0.013646683327188791,\n",
              " 6: 0.0022321428624134157,\n",
              " 7: 0.012567770244510636,\n",
              " 8: 0.014201606287706905,\n",
              " 9: 0.01745599926371487,\n",
              " 10: 0.015057654265982195,\n",
              " 11: 0.015057654265982195,\n",
              " 12: 0.0121883155298438,\n",
              " 13: 0.018448450228026773,\n",
              " 14: 0.0022321428624134157,\n",
              " 15: 0.010597913529180141,\n",
              " 16: 0.013245810080768123,\n",
              " 17: 0.019250416760387832,\n",
              " 18: 0.017455999263714866,\n",
              " 19: 0.010629865645517825,\n",
              " 20: 0.016888011341445137,\n",
              " 21: 0.009083027303140303,\n",
              " 22: 0.009479862233563207,\n",
              " 23: 0.015057654265982195,\n",
              " 24: 0.0022321428624134157,\n",
              " 25: 0.01899320437534818,\n",
              " 26: 0.012751672680701409,\n",
              " 27: 0.017081279000286716,\n",
              " 28: 0.01818014748709955,\n",
              " 29: 0.014225885854016932,\n",
              " 30: 0.01691510773156606,\n",
              " 31: 0.020556583872654213,\n",
              " 32: 0.0022321428624134157,\n",
              " 33: 0.01426827148270352,\n",
              " 34: 0.015002673389272476,\n",
              " 35: 0.0022321428624134157,\n",
              " 36: 0.01364076202297198,\n",
              " 37: 0.013020381688759118,\n",
              " 38: 0.012474184731182966,\n",
              " 39: 0.010629865645517829,\n",
              " 40: 0.016553552077682457,\n",
              " 41: 0.0174164238334848,\n",
              " 42: 0.005283918273012016,\n",
              " 43: 0.015057654265982197,\n",
              " 44: 0.017747696077757596,\n",
              " 45: 0.012212129213879612,\n",
              " 46: 0.019284102973490428,\n",
              " 47: 0.01875876978505191,\n",
              " 48: 0.016827419374991666,\n",
              " 49: 0.0022321428624134157,\n",
              " 50: 0.004884835382201651,\n",
              " 51: 0.018412230770854462,\n",
              " 52: 0.012657257663266752,\n",
              " 53: 0.010629865645517824,\n",
              " 54: 0.0110897525033715,\n",
              " 55: 0.015057654265982197,\n",
              " 56: 0.014932396043442047,\n",
              " 57: 0.015611581352842362,\n",
              " 58: 0.01339112763869078,\n",
              " 59: 0.019215163976554196,\n",
              " 60: 0.016004048442810535,\n",
              " 61: 0.011116489302737656,\n",
              " 62: 0.017716558053762085,\n",
              " 63: 0.0022321428624134157,\n",
              " 64: 0.013225582899085736,\n",
              " 65: 0.011055735695795037,\n",
              " 66: 0.017150577102642006,\n",
              " 67: 0.011615835544199017,\n",
              " 68: 0.01667676177203158,\n",
              " 69: 0.019516189499926995,\n",
              " 70: 0.012465305153491736,\n",
              " 71: 0.014139711657951595,\n",
              " 72: 0.01859584731576288,\n",
              " 73: 0.0022321428624134157}"
            ]
          },
          "metadata": {},
          "execution_count": 24
        }
      ],
      "source": [
        "scores"
      ]
    },
    {
      "cell_type": "code",
      "execution_count": null,
      "metadata": {
        "id": "oXLR-hN_xTK3"
      },
      "outputs": [],
      "source": [
        "#mengambil ranking teratas\n",
        "#mengurutkan ranking\n",
        "ranked_sentences = sorted(((scores[i],s) for i,s in enumerate(sentences)), reverse=True)"
      ]
    },
    {
      "cell_type": "code",
      "execution_count": null,
      "metadata": {
        "colab": {
          "base_uri": "https://localhost:8080/"
        },
        "id": "t2QGBFdC8s07",
        "outputId": "dc54ab6f-1366-46aa-a007-42cbaa2a9301"
      },
      "outputs": [
        {
          "output_type": "execute_result",
          "data": {
            "text/plain": [
              "[(0.020556583872654213,\n",
              "  '“Malin cepatlah pulang kemari Nak, ibu sudah tua Malin, kapan kau pulang…,” rintihnya pilu setiap malam'),\n",
              " (0.019516189499926995,\n",
              "  'Itulah tubuh Malin Kundang anak durhaka yang kena kutuk ibunya menjadi batu karena telah durhaka'),\n",
              " (0.019284102973490428,\n",
              "  'Sebelum dia sempat berpikir berbicara, istrinya yang cantik itu meludah sambil berkata, “Wanita jelek inikah ibumu? Mengapa dahulu kau bohong padaku!” ucapnya sinis, “Bukankah dulu kau katakan bahwa ibumu adalah seorang bangsawan yang sederajat denganku?!”Mendengar kata-kata pedas istrinya, Malin Kundang langsung mendorong ibunya hingga terguling ke pasir, “Wanita gila! Aku bukan anakmu!” ucapnya kasar'),\n",
              " (0.019250416760387832,\n",
              "  'Kemudian Malin dibekali dengan nasi berbungkus daun pisang sebanyak tujuh bungkus, “Untuk bekalmu di perjalanan,” katanya sambil menyerahkannya pada Malin'),\n",
              " (0.019215163976554196,\n",
              "  'Tapi kalau memang dia benar anakku yang bernama Malin Kundang, aku mohon keadilanmu, Ya Tuhan!” ucapnya pilu sambil menangis'),\n",
              " (0.01899320437534818,\n",
              "  'Malin tidak pernah menitipkan barang atau pesan apapun kepada ibunya'),\n",
              " (0.01881318811359308,\n",
              "  'Pada zaman dahulu di sebuah perkampungan nelayan Pantai Air Manis di daerah Padang, Sumatera Barat hiduplah seorang janda bernama Mande Rubayah bersama seorang anak laki-lakinya yang bernama Malin Kundang'),\n",
              " (0.01875876978505191,\n",
              "  'Mande Rubayah tidak percaya akan perilaku anaknya, ia jatuh terduduk sambil berkata, “Malin, Malin, anakku'),\n",
              " (0.01859584731576288,\n",
              "  'Sampai sekarang jika ada ombak besar menghantam batu-batu yang mirip kapal dan manusia itu, terdengar bunyi seperti lolongan jeritan manusia, terkadang bunyinya seperti orang meratap menyesali diri, “Ampun, Bu…! Ampuun!” konon itulah suara si Malin Kundang, anak yang durhaka pada ibunya'),\n",
              " (0.018448450228026773,\n",
              "  'Aku ingin mengubah nasib kita Bu, izinkanlah” pinta Malin memohon'),\n",
              " (0.018412230770854462,\n",
              "  'Melihat wanita itu beringsut hendak memeluk kakinya, Malin menendangnya sambil berkata, “Hai, wanita gila! lbuku tidak seperti engkau! Melarat dan kotor!” Wanita tua itu terkapar di pasir, menangis, dan sakit hati'),\n",
              " (0.01839882095000153, 'Suatu hari, Malin jatuh-sakit'),\n",
              " (0.018352573229447944,\n",
              "  'Mande Rubayah amat menyayangi dan memanjakan Malin Kundang'),\n",
              " (0.01818014748709955,\n",
              "  '“Mande, tahukah kau, anakmu kini telah menikah dengan gadis cantik, putri seorang bangsawan yang sangat kaya raya,” ucapnya saat itu'),\n",
              " (0.017747696077757596,\n",
              "  'Kau benar anakku kan?” katanya menahan isak tangis karena gembira, “Mengapa begitu lamanya kau tidak memberi kabar?”Malin terkejut karena dipeluk wanita tua renta yang berpakaian compang—camping itu'),\n",
              " (0.017716558053762085,\n",
              "  'Tiba-tiba datanglah badai besar, menghantam kapal Malin Kundang'),\n",
              " (0.017576937660476032, 'Malin adalah seorang anak yang rajin dan penurut'),\n",
              " (0.01745599926371487,\n",
              "  '“Jangan Malin, ibu takut terjadi sesuatu denganmu di tanah rantau sana'),\n",
              " (0.017455999263714866,\n",
              "  'Setelah itu berangkatiah Malin Kundang ke tanah rantau meninggalkan ibunya sendirian'),\n",
              " (0.0174164238334848,\n",
              "  'Belum sempat para sesepuh kampung menyambut, Ibu Malin terlebih dahulu menghampiri Malin'),\n",
              " (0.017150577102642006,\n",
              "  'Esoknya saat matahari pagi muncul di ufuk timur, badai telah reda'),\n",
              " (0.017081279000286716,\n",
              "  'Pada suatu hari Mande Rubayah mendapat kabar dari nakhoda dulu membawa Malin, nahkoda itu memberi kabar bahagia pada Mande Rubayah'),\n",
              " (0.01691510773156606,\n",
              "  'Namun hingga berbulan-bulan semenjak ia menerima kabar Malin dari nahkoda itu, Malin tak kunjung kembali untuk menengoknya'),\n",
              " (0.016888011341445137,\n",
              "  'Setiap pagi dan sore Mande Rubayah memandang ke laut, “Sudah sampai manakah kamu berlayar Nak?” tanyanya dalam hati sambil terus memandang laut'),\n",
              " (0.016827419374991666,\n",
              "  'Aku ini ibumu, Nak! Mengapa kau jadi seperti ini Nak?!” Malin Kundang tidak memperdulikan perkataan ibunya'),\n",
              " (0.01667676177203158,\n",
              "  'Itulah kapal Malin Kundang! Tampak sebongkah batu yang menyerupai tubuh manusia'),\n",
              " (0.016646449790184082,\n",
              "  'Mande Rubayah sudah tua, ia hanya mampu bekerja sebagai penjual kue untuk mencupi kebutuhan ia dan anak tunggalnya'),\n",
              " (0.016553552077682457,\n",
              "  'Jantungnya berdebar keras saat melihat lelaki muda yang berada di kapal itu, ia sangat yakin sekali bahwa lelaki muda itu adalah anaknya, Malin Kundang'),\n",
              " (0.016004048442810535,\n",
              "  'Tak lama kemudian cuaca di tengah laut yang tadinya cerah, mendadak berubah menjadi gelap'),\n",
              " (0.015611581352842362,\n",
              "  'Hatinya perih dan sakit, lalu tangannya ditengadahkannya ke langit'),\n",
              " (0.015057654265982197, '“Malin, anakku'),\n",
              " (0.015057654265982197, 'Dilihatnya kapal Malin semakin menjauh'),\n",
              " (0.015057654265982195,\n",
              "  '“Ibu tenanglah, tidak akan terjadi apa-apa denganku,” kata Malin sambil menggenggam tangan ibunya'),\n",
              " (0.015057654265982195,\n",
              "  '“Apakah kalian melihat anakku, Malin? Apakah dia baik-baik saja? Kapan ia pulang?” tanyanya'),\n",
              " (0.015057654265982195,\n",
              "  'Menetaplah saja di sini, temani ibu,” ucap ibunya sedih setelah mendengar keinginan Malin yang ingin merantau'),\n",
              " (0.015002673389272476,\n",
              "  'Orang kampung berkumpul, mereka mengira kapal itu milik seorang sultan atau seorang pangeran'),\n",
              " (0.014932396043442047,\n",
              "  'Ia tak menyangka Malin yang dulu disayangi tega berbuat demikian'),\n",
              " (0.01426827148270352,\n",
              "  'Benar saja tak berapa lama kemudian di suatu hari yang cerah dari kejauhan tampak sebuah kapal yang megah nan indah berlayar menuju pantai'),\n",
              " (0.014225885854016932,\n",
              "  'Mande Rubayah amat gembira mendengar hal itu, ia selalu berdoa agar anaknya selamat dan segera kembali menjenguknya, sinar keceriaan mulai mengampirinya kembali'),\n",
              " (0.014201606287706905,\n",
              "  'Kini, Malin sudah dewasa ia meminta izin kepada ibunya untuk pergi merantau ke kota, karena saat itu sedang ada kapal besar merapat di Pantai Air Manis'),\n",
              " (0.014139711657951595,\n",
              "  'Konon, ikan itu berasal dari serpihan tubuh sang istri yang terus mencari Malin Kundang'),\n",
              " (0.013646683327188791,\n",
              "  'Sakit yang amat keras, nyawanya hampir melayang namun akhirnya ia dapat diseiamatkan-berkat usaha keras ibunya'),\n",
              " (0.01364076202297198,\n",
              "  'Ketika kapal itu mulai merapat, terlihat sepasang anak muda berdiri di anjungan'),\n",
              " (0.01339112763869078,\n",
              "  'Ia kemudian berdoa dengan hatinya yang pilu, “Ya, Tuhan, kalau memang dia bukan anakku, aku maafhan perbuatannya tadi'),\n",
              " (0.013245810080768123,\n",
              "  'Meski dengan berat hati akhirnya Mande Rubayah mengizinkan anaknya pergi'),\n",
              " (0.013225582899085736, 'Saat itu juga kapal hancur berkeping- keping'),\n",
              " (0.013020381688759118, 'Pakaian mereka berkiiauan terkena sinar matahari'),\n",
              " (0.012751672680701409,\n",
              "  'Bertahun-tahun Mande Rubayah terus bertanya namun tak pernah ada jawaban hingga tubuhnya semakin tua, kini ia jalannya mulai terbungkuk-bungkuk'),\n",
              " (0.012657257663266752,\n",
              "  'Orang-orang yang meilhatnya ikut terpana dan kemudian pulang ke rumah masing-masing'),\n",
              " (0.012567770244510636, 'Mereka adalah ibu dan anak yang saling menyayangi'),\n",
              " (0.012474184731182966,\n",
              "  'Wajah mereka cerah dihiasi senyum karena bahagia disambut dengan meriah'),\n",
              " (0.012465305153491736,\n",
              "  'Disela-sela batu itu berenang-renang ikan teri, ikan belanak, dan ikan tengiri'),\n",
              " (0.012212129213879612, 'Ia tak percaya bahwa wanita itu adalah ibunya'),\n",
              " (0.0121883155298438,\n",
              "  '“Ini kesempatan Bu, kerena belum tentu setahun sekali ada kapal besar merapat di pantai ini'),\n",
              " (0.011615835544199017,\n",
              "  'Di kaki bukit terlihat kepingan kapal yang telah menjadi batu'),\n",
              " (0.011116489302737656, 'Hujan tiba-tiba turun dengan teramat lebatnya'),\n",
              " (0.0110897525033715, 'Ketika ia sadar, Pantai Air Manis sudah sepi'),\n",
              " (0.011055735695795037, 'Kemudian terbawa ombak hingga ke pantai'),\n",
              " (0.010629865645517829, 'Mande Rubayah juga ikut berdesakan mendekati kapal'),\n",
              " (0.010629865645517825,\n",
              "  'Hari-hari terus berlalu, hari yang terasa lambat bagi Mande Rubayah'),\n",
              " (0.010629865645517824, 'Mande Rubayah pingsan dan terbaring sendiri'),\n",
              " (0.010597913529180141,\n",
              "  'Cepatlah kembali, ibu akan selalu menunggumu Nak,” kata ibunya sambil menangis'),\n",
              " (0.009479862233563207,\n",
              "  'Beberapa waktu kemudian jika ada kapal yang datang merapat ia selalu menanyakan kabar tentang anaknya'),\n",
              " (0.009083027303140303,\n",
              "  'la selalu mendo’akan anaknya agar selalu selamat dan cepat kembali'),\n",
              " (0.005283918273012016,\n",
              "  'la langsung memeluknya erat, ia takut kehilangan anaknya lagi'),\n",
              " (0.004884835382201651, 'la malu kepada istrinya'),\n",
              " (0.0022321428624134157, '“Baiklah, ibu izinkan'),\n",
              " (0.0022321428624134157, 'Setelah sembuh dari sakitnya ia semakin disayang'),\n",
              " (0.0022321428624134157,\n",
              "  'Namun setiap ia bertanya pada awak kapal atau nahkoda tidak pernah mendapatkan jawaban'),\n",
              " (0.0022321428624134157, 'Mereka menyambutnya dengan gembira'),\n",
              " (0.0022321428624134157, 'Laiu sambaran petir yang menggelegar'),\n",
              " (0.0022321428624134157, 'Ia yakin anaknya pasti datang'),\n",
              " (0.0022321428624134157, 'Dia tidak akan mengakui ibunya'),\n",
              " (0.0022321428624134157, '')]"
            ]
          },
          "metadata": {},
          "execution_count": 28
        }
      ],
      "source": [
        "ranked_sentences"
      ]
    },
    {
      "cell_type": "code",
      "execution_count": null,
      "metadata": {
        "id": "vek-qkG-9Hhm"
      },
      "outputs": [],
      "source": [
        "n = int(0.25*len(sentences))"
      ]
    },
    {
      "cell_type": "code",
      "execution_count": null,
      "metadata": {
        "colab": {
          "base_uri": "https://localhost:8080/"
        },
        "id": "2t2ggClkxUsG",
        "outputId": "01a543c1-715a-4be8-f8f4-2b42007eb734"
      },
      "outputs": [
        {
          "output_type": "stream",
          "name": "stdout",
          "text": [
            "“Malin cepatlah pulang kemari Nak, ibu sudah tua Malin, kapan kau pulang…,” rintihnya pilu setiap malam.\n",
            "Itulah tubuh Malin Kundang anak durhaka yang kena kutuk ibunya menjadi batu karena telah durhaka.\n",
            "Sebelum dia sempat berpikir berbicara, istrinya yang cantik itu meludah sambil berkata, “Wanita jelek inikah ibumu? Mengapa dahulu kau bohong padaku!” ucapnya sinis, “Bukankah dulu kau katakan bahwa ibumu adalah seorang bangsawan yang sederajat denganku?!”Mendengar kata-kata pedas istrinya, Malin Kundang langsung mendorong ibunya hingga terguling ke pasir, “Wanita gila! Aku bukan anakmu!” ucapnya kasar.\n",
            "Kemudian Malin dibekali dengan nasi berbungkus daun pisang sebanyak tujuh bungkus, “Untuk bekalmu di perjalanan,” katanya sambil menyerahkannya pada Malin.\n",
            "Tapi kalau memang dia benar anakku yang bernama Malin Kundang, aku mohon keadilanmu, Ya Tuhan!” ucapnya pilu sambil menangis.\n",
            "Malin tidak pernah menitipkan barang atau pesan apapun kepada ibunya.\n",
            "Pada zaman dahulu di sebuah perkampungan nelayan Pantai Air Manis di daerah Padang, Sumatera Barat hiduplah seorang janda bernama Mande Rubayah bersama seorang anak laki-lakinya yang bernama Malin Kundang.\n",
            "Mande Rubayah tidak percaya akan perilaku anaknya, ia jatuh terduduk sambil berkata, “Malin, Malin, anakku.\n",
            "Sampai sekarang jika ada ombak besar menghantam batu-batu yang mirip kapal dan manusia itu, terdengar bunyi seperti lolongan jeritan manusia, terkadang bunyinya seperti orang meratap menyesali diri, “Ampun, Bu…! Ampuun!” konon itulah suara si Malin Kundang, anak yang durhaka pada ibunya.\n",
            "Aku ingin mengubah nasib kita Bu, izinkanlah” pinta Malin memohon.\n",
            "Melihat wanita itu beringsut hendak memeluk kakinya, Malin menendangnya sambil berkata, “Hai, wanita gila! lbuku tidak seperti engkau! Melarat dan kotor!” Wanita tua itu terkapar di pasir, menangis, dan sakit hati.\n",
            "Suatu hari, Malin jatuh-sakit.\n",
            "Mande Rubayah amat menyayangi dan memanjakan Malin Kundang.\n",
            "“Mande, tahukah kau, anakmu kini telah menikah dengan gadis cantik, putri seorang bangsawan yang sangat kaya raya,” ucapnya saat itu.\n",
            "Kau benar anakku kan?” katanya menahan isak tangis karena gembira, “Mengapa begitu lamanya kau tidak memberi kabar?”Malin terkejut karena dipeluk wanita tua renta yang berpakaian compang—camping itu.\n",
            "Tiba-tiba datanglah badai besar, menghantam kapal Malin Kundang.\n",
            "Malin adalah seorang anak yang rajin dan penurut.\n",
            "“Jangan Malin, ibu takut terjadi sesuatu denganmu di tanah rantau sana.\n"
          ]
        }
      ],
      "source": [
        "# Ekstrak 25% kalimat teratas sebagai ringkasan\n",
        "# besar presentase ekstrak dapat diatur pada nilai di variabel n\n",
        "for i in range(n):\n",
        "  print(ranked_sentences[i][1], end='.\\n')"
      ]
    },
    {
      "cell_type": "markdown",
      "metadata": {
        "id": "pZosIefRUcoM"
      },
      "source": [
        "# **Evaluate**"
      ]
    },
    {
      "cell_type": "markdown",
      "source": [
        "Evaluasi yang dilakukan menggunakan Rouge. Dimana nantinya hasil evaluasi rouge yang didapatkan merupakan hasil perbandingan antara hasil ringkasan menggunakan model yang dibuat dengan hasil ringkasan menggunakan online summarization. Adapun online summarization yang digunakan https://studycorgi.com/free-writing-tools/summary-generator/. Dimana jenis rouge yang digunakan :\n",
        "- Rouge 1 : Mengukur tingkat kecocokan unigram (banyak pengelompokam token/kata) antara hasil model dengan referensi\n",
        "- Rouge 2 : Mengukur tingkat kecocokan bigram (2 pengelompokam token/kata) antara hasil model dengan referensi\n",
        "- Rouge L : Mengukur urutan umum terpanjang (LCS) R1 dan R2 terhadap referensi\n"
      ],
      "metadata": {
        "id": "3wGGiM632TSh"
      }
    },
    {
      "cell_type": "code",
      "execution_count": null,
      "metadata": {
        "colab": {
          "base_uri": "https://localhost:8080/"
        },
        "id": "-fZVmdfmWB5J",
        "outputId": "fd39cf60-7ca7-46c9-9d51-696258934625"
      },
      "outputs": [
        {
          "output_type": "stream",
          "name": "stdout",
          "text": [
            "Looking in indexes: https://pypi.org/simple, https://us-python.pkg.dev/colab-wheels/public/simple/\n",
            "Collecting git+https://github.com/tagucci/pythonrouge.git\n",
            "  Cloning https://github.com/tagucci/pythonrouge.git to /tmp/pip-req-build-l9jzwmcy\n",
            "  Running command git clone -q https://github.com/tagucci/pythonrouge.git /tmp/pip-req-build-l9jzwmcy\n",
            "Building wheels for collected packages: pythonrouge\n",
            "  Building wheel for pythonrouge (setup.py) ... \u001b[?25l\u001b[?25hdone\n",
            "  Created wheel for pythonrouge: filename=pythonrouge-0.2-py3-none-any.whl size=285408 sha256=79ed32ac007651248e6c1fe5ae483bca1783fbe3cccf5ffe910feee0eeb882fb\n",
            "  Stored in directory: /tmp/pip-ephem-wheel-cache-yod_kgx2/wheels/f2/28/1a/47e2c73d5e7d1d49296a991e19d774c97e4c2e98dbf027a515\n",
            "Successfully built pythonrouge\n",
            "Installing collected packages: pythonrouge\n",
            "Successfully installed pythonrouge-0.2\n"
          ]
        }
      ],
      "source": [
        "pip install git+https://github.com/tagucci/pythonrouge.git"
      ]
    },
    {
      "cell_type": "code",
      "execution_count": null,
      "metadata": {
        "id": "si3IX3CfusnK",
        "colab": {
          "base_uri": "https://localhost:8080/"
        },
        "outputId": "2f48b642-f313-4101-cf7f-75051ffc6edf"
      },
      "outputs": [
        {
          "output_type": "stream",
          "name": "stdout",
          "text": [
            "Looking in indexes: https://pypi.org/simple, https://us-python.pkg.dev/colab-wheels/public/simple/\n",
            "Collecting rouge-score\n",
            "  Downloading rouge_score-0.0.4-py2.py3-none-any.whl (22 kB)\n",
            "Requirement already satisfied: nltk in /usr/local/lib/python3.7/dist-packages (from rouge-score) (3.2.5)\n",
            "Requirement already satisfied: six>=1.14.0 in /usr/local/lib/python3.7/dist-packages (from rouge-score) (1.15.0)\n",
            "Requirement already satisfied: absl-py in /usr/local/lib/python3.7/dist-packages (from rouge-score) (1.0.0)\n",
            "Requirement already satisfied: numpy in /usr/local/lib/python3.7/dist-packages (from rouge-score) (1.21.6)\n",
            "Installing collected packages: rouge-score\n",
            "Successfully installed rouge-score-0.0.4\n"
          ]
        }
      ],
      "source": [
        "!pip install rouge-score"
      ]
    },
    {
      "cell_type": "code",
      "execution_count": null,
      "metadata": {
        "id": "7ZmUyoz2ZSiP"
      },
      "outputs": [],
      "source": [
        "from rouge_score import rouge_scorer\n",
        "\n",
        "scorer = rouge_scorer.RougeScorer(['rouge1', 'rouge2', 'rougeL'], use_stemmer=True)"
      ]
    },
    {
      "cell_type": "code",
      "execution_count": null,
      "metadata": {
        "id": "O_cmJtsic5cV"
      },
      "outputs": [],
      "source": [
        "resultSR = '''\n",
        "“Malin cepatlah pulang kemari Nak, ibu sudah tua Malin, kapan kau pulang…,” rintihnya pilu setiap malam.\n",
        "Itulah tubuh Malin Kundang anak durhaka yang kena kutuk ibunya menjadi batu karena telah durhaka.\n",
        "Sebelum dia sempat berpikir berbicara, istrinya yang cantik itu meludah sambil berkata, “Wanita jelek inikah ibumu? Mengapa dahulu kau bohong padaku!” ucapnya sinis, “Bukankah dulu kau katakan bahwa ibumu adalah seorang bangsawan yang sederajat denganku?!”Mendengar kata-kata pedas istrinya, Malin Kundang langsung mendorong ibunya hingga terguling ke pasir, “Wanita gila! Aku bukan anakmu!” ucapnya kasar.\n",
        "Kemudian Malin dibekali dengan nasi berbungkus daun pisang sebanyak tujuh bungkus, “Untuk bekalmu di perjalanan,” katanya sambil menyerahkannya pada Malin.\n",
        "Tapi kalau memang dia benar anakku yang bernama Malin Kundang, aku mohon keadilanmu, Ya Tuhan!” ucapnya pilu sambil menangis.\n",
        "Malin tidak pernah menitipkan barang atau pesan apapun kepada ibunya.\n",
        "Pada zaman dahulu di sebuah perkampungan nelayan Pantai Air Manis di daerah Padang, Sumatera Barat hiduplah seorang janda bernama Mande Rubayah bersama seorang anak laki-lakinya yang bernama Malin Kundang.\n",
        "Mande Rubayah tidak percaya akan perilaku anaknya, ia jatuh terduduk sambil berkata, “Malin, Malin, anakku.\n",
        "Sampai sekarang jika ada ombak besar menghantam batu-batu yang mirip kapal dan manusia itu, terdengar bunyi seperti lolongan jeritan manusia, terkadang bunyinya seperti orang meratap menyesali diri, “Ampun, Bu…! Ampuun!” konon itulah suara si Malin Kundang, anak yang durhaka pada ibunya.\n",
        "Aku ingin mengubah nasib kita Bu, izinkanlah” pinta Malin memohon.\n",
        "Melihat wanita itu beringsut hendak memeluk kakinya, Malin menendangnya sambil berkata, “Hai, wanita gila! lbuku tidak seperti engkau! Melarat dan kotor!” Wanita tua itu terkapar di pasir, menangis, dan sakit hati.\n",
        "Suatu hari, Malin jatuh-sakit.\n",
        "Mande Rubayah amat menyayangi dan memanjakan Malin Kundang.\n",
        "“Mande, tahukah kau, anakmu kini telah menikah dengan gadis cantik, putri seorang bangsawan yang sangat kaya raya,” ucapnya saat itu.\n",
        "Kau benar anakku kan?” katanya menahan isak tangis karena gembira, “Mengapa begitu lamanya kau tidak memberi kabar?”Malin terkejut karena dipeluk wanita tua renta yang berpakaian compang—camping itu.\n",
        "Tiba-tiba datanglah badai besar, menghantam kapal Malin Kundang.\n",
        "Malin adalah seorang anak yang rajin dan penurut.\n",
        "“Jangan Malin, ibu takut terjadi sesuatu denganmu di tanah rantau sana.\n",
        "'''"
      ]
    },
    {
      "cell_type": "code",
      "execution_count": null,
      "metadata": {
        "id": "7fheZ6cGeAZA"
      },
      "outputs": [],
      "source": [
        "resultOS = '''\n",
        "Pada zaman dahulu di sebuah perkampungan nelayan Pantai Air Manis di daerah Padang, Sumatera Barat hiduplah seorang janda bernama Mande Rubayah bersama seorang anak laki-lakinya yang bernama Malin Kundang. Mande Rubayah amat menyayangi dan memanjakan Malin Kundang. Malin adalah seorang anak yang rajin dan penurut. Kini, Malin sudah dewasa ia meminta izin kepada ibunya untuk pergi merantau ke kota, karena saat itu sedang ada kapal besar merapat di Pantai Air Manis.\"Jangan Malin, ibu takut terjadi sesuatu denganmu di tanah rantau sana. Menetaplah saja di sini, temani ibu,\" ucap ibunya sedih setelah mendengar keinginan Malin yang ingin merantau.\"Ibu tenanglah, tidak akan terjadi apa-apa denganku,\" kata Malin sambil menggenggam tangan ibunya.\"Ini kesempatan Bu, kerena belum tentu setahun sekali ada kapal besar merapat di pantai ini. Setelah itu berangkatiah Malin Kundang ke tanah rantau meninggalkan ibunya sendirian. Beberapa waktu kemudian jika ada kapal yang datang merapat ia selalu menanyakan kabar tentang anaknya.\"Apakah kalian melihat anakku, Malin? Pada suatu hari Mande Rubayah mendapat kabar dari nakhoda dulu membawa Malin, nahkoda itu memberi kabar bahagia pada Mande Rubayah.\"Mande, tahukah kau, anakmu kini telah menikah dengan gadis cantik, putri seorang bangsawan yang sangat kaya raya,\" ucapnya saat itu. Namun hingga berbulan-bulan semenjak ia menerima kabar Malin dari nahkoda itu, Malin tak kunjung kembali untuk menengoknya.\"Malin cepatlah pulang kemari Nak, ibu sudah tua Malin, kapan kau pulang...,\" rintihnya pilu setiap malam. Jantungnya berdebar keras saat melihat lelaki muda yang berada di kapal itu, ia sangat yakin sekali bahwa lelaki muda itu adalah anaknya, Malin Kundang. Mande Rubayah tidak percaya akan perilaku anaknya, ia jatuh terduduk sambil berkata, \"Malin, Malin, anakku. Ia tak menyangka Malin yang dulu disayangi tega berbuat demikian. Tapi kalau memang dia benar anakku yang bernama Malin Kundang, aku mohon keadilanmu, Ya Tuhan!\" ucapnya pilu sambil menangis. Tiba-tiba datanglah badai besar, menghantam kapal Malin Kundang. Itulah kapal Malin Kundang! Itulah tubuh Malin Kundang anak durhaka yang kena kutuk ibunya menjadi batu karena telah durhaka. Konon, ikan itu berasal dari serpihan tubuh sang istri yang terus mencari Malin Kundang. Ampuun!\" konon itulah suara si Malin Kundang, anak yang durhaka pada ibunya.\n",
        "'''"
      ]
    },
    {
      "cell_type": "code",
      "execution_count": null,
      "metadata": {
        "id": "Ehhd1jh0usnT"
      },
      "outputs": [],
      "source": [
        "scoresSR = scorer.score(resultSR,resultOS)"
      ]
    },
    {
      "cell_type": "code",
      "execution_count": null,
      "metadata": {
        "id": "kjTnFZ57usnU",
        "outputId": "fa25b71a-2bb6-40c7-e2cf-da85e5f35671",
        "colab": {
          "base_uri": "https://localhost:8080/"
        }
      },
      "outputs": [
        {
          "output_type": "execute_result",
          "data": {
            "text/plain": [
              "{'rouge1': Score(precision=0.6, recall=0.6016949152542372, fmeasure=0.6008462623413259),\n",
              " 'rouge2': Score(precision=0.4548022598870056, recall=0.45609065155807366, fmeasure=0.45544554455445546),\n",
              " 'rougeL': Score(precision=0.24507042253521127, recall=0.2457627118644068, fmeasure=0.2454160789844852)}"
            ]
          },
          "metadata": {},
          "execution_count": 38
        }
      ],
      "source": [
        "scoresSR "
      ]
    }
  ],
  "metadata": {
    "colab": {
      "collapsed_sections": [
        "vOw_oVuB22M0",
        "Wi8leDxUPTgQ",
        "r6uyMMk0vkQN"
      ],
      "name": "Automatic Text Summarization using Sentence Ranking.ipynb",
      "provenance": []
    },
    "kernelspec": {
      "display_name": "Python 3",
      "language": "python",
      "name": "python3"
    },
    "language_info": {
      "codemirror_mode": {
        "name": "ipython",
        "version": 3
      },
      "file_extension": ".py",
      "mimetype": "text/x-python",
      "name": "python",
      "nbconvert_exporter": "python",
      "pygments_lexer": "ipython3",
      "version": "3.8.10"
    }
  },
  "nbformat": 4,
  "nbformat_minor": 0
}